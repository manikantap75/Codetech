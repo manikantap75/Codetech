{
 "cells": [
  {
   "cell_type": "code",
   "execution_count": 4,
   "id": "b9fd33f7-e38d-4438-bc2f-7b77363ed1d9",
   "metadata": {},
   "outputs": [
    {
     "data": {
      "text/html": [
       "<div>\n",
       "<style scoped>\n",
       "    .dataframe tbody tr th:only-of-type {\n",
       "        vertical-align: middle;\n",
       "    }\n",
       "\n",
       "    .dataframe tbody tr th {\n",
       "        vertical-align: top;\n",
       "    }\n",
       "\n",
       "    .dataframe thead th {\n",
       "        text-align: right;\n",
       "    }\n",
       "</style>\n",
       "<table border=\"1\" class=\"dataframe\">\n",
       "  <thead>\n",
       "    <tr style=\"text-align: right;\">\n",
       "      <th></th>\n",
       "      <th>Variance</th>\n",
       "      <th>Skewness</th>\n",
       "      <th>Curtosis</th>\n",
       "      <th>Entropy</th>\n",
       "      <th>Class</th>\n",
       "    </tr>\n",
       "  </thead>\n",
       "  <tbody>\n",
       "    <tr>\n",
       "      <th>0</th>\n",
       "      <td>3.62160</td>\n",
       "      <td>8.6661</td>\n",
       "      <td>-2.8073</td>\n",
       "      <td>-0.44699</td>\n",
       "      <td>0</td>\n",
       "    </tr>\n",
       "    <tr>\n",
       "      <th>1</th>\n",
       "      <td>4.54590</td>\n",
       "      <td>8.1674</td>\n",
       "      <td>-2.4586</td>\n",
       "      <td>-1.46210</td>\n",
       "      <td>0</td>\n",
       "    </tr>\n",
       "    <tr>\n",
       "      <th>2</th>\n",
       "      <td>3.86600</td>\n",
       "      <td>-2.6383</td>\n",
       "      <td>1.9242</td>\n",
       "      <td>0.10645</td>\n",
       "      <td>0</td>\n",
       "    </tr>\n",
       "    <tr>\n",
       "      <th>3</th>\n",
       "      <td>3.45660</td>\n",
       "      <td>9.5228</td>\n",
       "      <td>-4.0112</td>\n",
       "      <td>-3.59440</td>\n",
       "      <td>0</td>\n",
       "    </tr>\n",
       "    <tr>\n",
       "      <th>4</th>\n",
       "      <td>0.32924</td>\n",
       "      <td>-4.4552</td>\n",
       "      <td>4.5718</td>\n",
       "      <td>-0.98880</td>\n",
       "      <td>1</td>\n",
       "    </tr>\n",
       "  </tbody>\n",
       "</table>\n",
       "</div>"
      ],
      "text/plain": [
       "   Variance  Skewness  Curtosis  Entropy  Class\n",
       "0   3.62160    8.6661   -2.8073 -0.44699      0\n",
       "1   4.54590    8.1674   -2.4586 -1.46210      0\n",
       "2   3.86600   -2.6383    1.9242  0.10645      0\n",
       "3   3.45660    9.5228   -4.0112 -3.59440      0\n",
       "4   0.32924   -4.4552    4.5718 -0.98880      1"
      ]
     },
     "execution_count": 4,
     "metadata": {},
     "output_type": "execute_result"
    }
   ],
   "source": [
    "import pandas as pd\n",
    "import numpy as np\n",
    "import matplotlib.pyplot as plt\n",
    "\n",
    "data=pd.read_csv('bill_authentication.csv')\n",
    "data.head()"
   ]
  },
  {
   "cell_type": "code",
   "execution_count": 3,
   "id": "a23a8f22-be39-4a25-9200-9b05e96726a7",
   "metadata": {},
   "outputs": [
    {
     "data": {
      "text/plain": [
       "array([[  3.6216 ,   8.6661 ,  -2.8073 ,  -0.44699],\n",
       "       [  4.5459 ,   8.1674 ,  -2.4586 ,  -1.4621 ],\n",
       "       [  3.866  ,  -2.6383 ,   1.9242 ,   0.10645],\n",
       "       ...,\n",
       "       [ -3.7503 , -13.4586 ,  17.5932 ,  -2.7771 ],\n",
       "       [ -3.5637 ,  -8.3827 ,  12.393  ,  -1.2823 ],\n",
       "       [ -2.5419 ,  -0.65804,   2.6842 ,   1.1952 ]])"
      ]
     },
     "execution_count": 3,
     "metadata": {},
     "output_type": "execute_result"
    }
   ],
   "source": [
    "x=data.iloc[:,:-1].values\n",
    "x"
   ]
  },
  {
   "cell_type": "code",
   "execution_count": 6,
   "id": "8a68a068-b4d1-4be5-aff3-f90775fb9587",
   "metadata": {},
   "outputs": [
    {
     "data": {
      "text/plain": [
       "array([0, 0, 0, ..., 1, 1, 1], dtype=int64)"
      ]
     },
     "execution_count": 6,
     "metadata": {},
     "output_type": "execute_result"
    }
   ],
   "source": [
    "y=data.iloc[:,-1].values\n",
    "y"
   ]
  },
  {
   "cell_type": "code",
   "execution_count": 7,
   "id": "25806b94-f8a6-4c0f-a2fe-44c398c8ef31",
   "metadata": {},
   "outputs": [],
   "source": [
    "from sklearn.model_selection import train_test_split\n",
    "x_train,x_test,y_train,y_test=train_test_split(x,y,test_size=0.20)"
   ]
  },
  {
   "cell_type": "code",
   "execution_count": 12,
   "id": "de94fb04-5f17-4f40-8133-d4142f607276",
   "metadata": {},
   "outputs": [],
   "source": [
    "'''from sklearn.preprocessing import StandardScaler\n",
    "sc=StandardScaler()\n",
    "x_train=sc.fit_transform(x_train)\n",
    "x_test=sc.fit_transform(x_test)'''"
   ]
  },
  {
   "cell_type": "code",
   "execution_count": 25,
   "id": "5bfa486f-cf9c-4d05-9d92-627951cb3b6a",
   "metadata": {},
   "outputs": [
    {
     "data": {
      "text/html": [
       "<style>#sk-container-id-3 {color: black;background-color: white;}#sk-container-id-3 pre{padding: 0;}#sk-container-id-3 div.sk-toggleable {background-color: white;}#sk-container-id-3 label.sk-toggleable__label {cursor: pointer;display: block;width: 100%;margin-bottom: 0;padding: 0.3em;box-sizing: border-box;text-align: center;}#sk-container-id-3 label.sk-toggleable__label-arrow:before {content: \"▸\";float: left;margin-right: 0.25em;color: #696969;}#sk-container-id-3 label.sk-toggleable__label-arrow:hover:before {color: black;}#sk-container-id-3 div.sk-estimator:hover label.sk-toggleable__label-arrow:before {color: black;}#sk-container-id-3 div.sk-toggleable__content {max-height: 0;max-width: 0;overflow: hidden;text-align: left;background-color: #f0f8ff;}#sk-container-id-3 div.sk-toggleable__content pre {margin: 0.2em;color: black;border-radius: 0.25em;background-color: #f0f8ff;}#sk-container-id-3 input.sk-toggleable__control:checked~div.sk-toggleable__content {max-height: 200px;max-width: 100%;overflow: auto;}#sk-container-id-3 input.sk-toggleable__control:checked~label.sk-toggleable__label-arrow:before {content: \"▾\";}#sk-container-id-3 div.sk-estimator input.sk-toggleable__control:checked~label.sk-toggleable__label {background-color: #d4ebff;}#sk-container-id-3 div.sk-label input.sk-toggleable__control:checked~label.sk-toggleable__label {background-color: #d4ebff;}#sk-container-id-3 input.sk-hidden--visually {border: 0;clip: rect(1px 1px 1px 1px);clip: rect(1px, 1px, 1px, 1px);height: 1px;margin: -1px;overflow: hidden;padding: 0;position: absolute;width: 1px;}#sk-container-id-3 div.sk-estimator {font-family: monospace;background-color: #f0f8ff;border: 1px dotted black;border-radius: 0.25em;box-sizing: border-box;margin-bottom: 0.5em;}#sk-container-id-3 div.sk-estimator:hover {background-color: #d4ebff;}#sk-container-id-3 div.sk-parallel-item::after {content: \"\";width: 100%;border-bottom: 1px solid gray;flex-grow: 1;}#sk-container-id-3 div.sk-label:hover label.sk-toggleable__label {background-color: #d4ebff;}#sk-container-id-3 div.sk-serial::before {content: \"\";position: absolute;border-left: 1px solid gray;box-sizing: border-box;top: 0;bottom: 0;left: 50%;z-index: 0;}#sk-container-id-3 div.sk-serial {display: flex;flex-direction: column;align-items: center;background-color: white;padding-right: 0.2em;padding-left: 0.2em;position: relative;}#sk-container-id-3 div.sk-item {position: relative;z-index: 1;}#sk-container-id-3 div.sk-parallel {display: flex;align-items: stretch;justify-content: center;background-color: white;position: relative;}#sk-container-id-3 div.sk-item::before, #sk-container-id-3 div.sk-parallel-item::before {content: \"\";position: absolute;border-left: 1px solid gray;box-sizing: border-box;top: 0;bottom: 0;left: 50%;z-index: -1;}#sk-container-id-3 div.sk-parallel-item {display: flex;flex-direction: column;z-index: 1;position: relative;background-color: white;}#sk-container-id-3 div.sk-parallel-item:first-child::after {align-self: flex-end;width: 50%;}#sk-container-id-3 div.sk-parallel-item:last-child::after {align-self: flex-start;width: 50%;}#sk-container-id-3 div.sk-parallel-item:only-child::after {width: 0;}#sk-container-id-3 div.sk-dashed-wrapped {border: 1px dashed gray;margin: 0 0.4em 0.5em 0.4em;box-sizing: border-box;padding-bottom: 0.4em;background-color: white;}#sk-container-id-3 div.sk-label label {font-family: monospace;font-weight: bold;display: inline-block;line-height: 1.2em;}#sk-container-id-3 div.sk-label-container {text-align: center;}#sk-container-id-3 div.sk-container {/* jupyter's `normalize.less` sets `[hidden] { display: none; }` but bootstrap.min.css set `[hidden] { display: none !important; }` so we also need the `!important` here to be able to override the default hidden behavior on the sphinx rendered scikit-learn.org. See: https://github.com/scikit-learn/scikit-learn/issues/21755 */display: inline-block !important;position: relative;}#sk-container-id-3 div.sk-text-repr-fallback {display: none;}</style><div id=\"sk-container-id-3\" class=\"sk-top-container\"><div class=\"sk-text-repr-fallback\"><pre>DecisionTreeClassifier()</pre><b>In a Jupyter environment, please rerun this cell to show the HTML representation or trust the notebook. <br />On GitHub, the HTML representation is unable to render, please try loading this page with nbviewer.org.</b></div><div class=\"sk-container\" hidden><div class=\"sk-item\"><div class=\"sk-estimator sk-toggleable\"><input class=\"sk-toggleable__control sk-hidden--visually\" id=\"sk-estimator-id-3\" type=\"checkbox\" checked><label for=\"sk-estimator-id-3\" class=\"sk-toggleable__label sk-toggleable__label-arrow\">DecisionTreeClassifier</label><div class=\"sk-toggleable__content\"><pre>DecisionTreeClassifier()</pre></div></div></div></div></div>"
      ],
      "text/plain": [
       "DecisionTreeClassifier()"
      ]
     },
     "execution_count": 25,
     "metadata": {},
     "output_type": "execute_result"
    }
   ],
   "source": [
    "from sklearn.tree import DecisionTreeClassifier\n",
    "classifier=DecisionTreeClassifier()\n",
    "classifier.fit(x_train,y_train)\n"
   ]
  },
  {
   "cell_type": "code",
   "execution_count": 32,
   "id": "ae84cb61-2ca0-46c1-84ab-4947481f149b",
   "metadata": {},
   "outputs": [
    {
     "name": "stdout",
     "output_type": "stream",
     "text": [
      "[0 0 0 1 1 1 1 0 0 1 0 0 0 1 1 0 1 1 0 1 0 0 0 1 0 0 0 0 0 0 1 0 1 1 1 1 0\n",
      " 0 1 0 0 0 1 0 0 0 1 0 0 0 0 1 1 1 0 1 1 0 1 0 1 0 1 0 1 1 0 1 1 0 1 1 1 1\n",
      " 0 0 1 0 0 0 1 1 1 1 0 1 1 0 1 0 0 1 0 0 0 0 0 0 0 0 0 0 1 1 0 0 1 0 0 1 0\n",
      " 0 0 0 0 1 0 0 1 0 0 1 1 1 1 1 1 1 1 0 1 1 1 0 1 0 0 0 0 0 1 1 1 1 0 1 1 0\n",
      " 0 0 1 0 0 1 0 1 1 1 1 0 1 0 1 1 0 0 1 1 0 0 0 1 0 1 0 0 0 0 0 1 0 1 1 0 1\n",
      " 1 1 0 1 0 0 1 1 1 0 0 0 0 0 0 1 0 1 0 0 0 1 1 0 0 1 1 1 1 1 0 0 1 0 0 1 0\n",
      " 0 1 0 0 0 0 0 1 0 0 0 1 1 1 1 1 0 1 0 1 1 0 1 0 0 0 1 0 0 1 0 0 1 0 1 1 0\n",
      " 0 0 0 0 1 0 0 1 1 0 0 0 0 0 0 1]\n",
      "94.9090909090909\n"
     ]
    }
   ],
   "source": [
    "y_pred=classifier.predict(x_test)\n",
    "print(y_pred)\n",
    "s=0\n",
    "for i in range(len(y_pred)):\n",
    "    if y_pred[i]==y_test[i]:\n",
    "        s+=1\n",
    "print((s*100)/len(y_pred))"
   ]
  },
  {
   "cell_type": "code",
   "execution_count": 34,
   "id": "853e75e9-f069-4a6c-b228-3b7585f135b1",
   "metadata": {},
   "outputs": [
    {
     "name": "stdout",
     "output_type": "stream",
     "text": [
      "[[144   5]\n",
      " [  9 117]]\n",
      "94.9090909090909\n",
      "              precision    recall  f1-score   support\n",
      "\n",
      "           0       0.94      0.97      0.95       149\n",
      "           1       0.96      0.93      0.94       126\n",
      "\n",
      "    accuracy                           0.95       275\n",
      "   macro avg       0.95      0.95      0.95       275\n",
      "weighted avg       0.95      0.95      0.95       275\n",
      "\n"
     ]
    }
   ],
   "source": [
    "from sklearn.metrics import confusion_matrix,accuracy_score,classification_report\n",
    "cm=confusion_matrix(y_test,y_pred)\n",
    "print(cm)\n",
    "accuracy=accuracy_score(y_test,y_pred)*100\n",
    "print(accuracy)\n",
    "print(classification_report(y_test,y_pred))"
   ]
  },
  {
   "cell_type": "code",
   "execution_count": 35,
   "id": "994aa882-1db7-42e1-9140-fab8cd639a7c",
   "metadata": {},
   "outputs": [
    {
     "data": {
      "text/plain": [
       "[Text(0.5041454081632653, 0.9666666666666667, 'x[0] <= -0.218\\ngini = 0.494\\nsamples = 1097\\nvalue = [611, 486]'),\n",
       " Text(0.3692602040816326, 0.9, 'x[1] <= 1.283\\ngini = 0.297\\nsamples = 468\\nvalue = [85, 383]'),\n",
       " Text(0.30994897959183676, 0.8333333333333334, 'x[1] <= 0.935\\ngini = 0.179\\nsamples = 422\\nvalue = [42, 380]'),\n",
       " Text(0.23214285714285715, 0.7666666666666667, 'x[2] <= 1.11\\ngini = 0.152\\nsamples = 399\\nvalue = [33, 366]'),\n",
       " Text(0.11734693877551021, 0.7, 'x[3] <= -0.247\\ngini = 0.075\\nsamples = 280\\nvalue = [11, 269]'),\n",
       " Text(0.10374149659863946, 0.6333333333333333, 'gini = 0.0\\nsamples = 83\\nvalue = [0, 83]'),\n",
       " Text(0.13095238095238096, 0.6333333333333333, 'x[1] <= 0.347\\ngini = 0.105\\nsamples = 197\\nvalue = [11, 186]'),\n",
       " Text(0.11734693877551021, 0.5666666666666667, 'x[3] <= -0.244\\ngini = 0.088\\nsamples = 195\\nvalue = [9, 186]'),\n",
       " Text(0.10374149659863946, 0.5, 'gini = 0.0\\nsamples = 1\\nvalue = [1, 0]'),\n",
       " Text(0.13095238095238096, 0.5, 'x[2] <= -0.603\\ngini = 0.079\\nsamples = 194\\nvalue = [8, 186]'),\n",
       " Text(0.05442176870748299, 0.43333333333333335, 'x[2] <= -0.64\\ngini = 0.287\\nsamples = 23\\nvalue = [4, 19]'),\n",
       " Text(0.027210884353741496, 0.36666666666666664, 'x[3] <= 0.046\\ngini = 0.18\\nsamples = 20\\nvalue = [2, 18]'),\n",
       " Text(0.013605442176870748, 0.3, 'gini = 0.0\\nsamples = 8\\nvalue = [0, 8]'),\n",
       " Text(0.04081632653061224, 0.3, 'x[2] <= -1.042\\ngini = 0.278\\nsamples = 12\\nvalue = [2, 10]'),\n",
       " Text(0.027210884353741496, 0.23333333333333334, 'gini = 0.0\\nsamples = 1\\nvalue = [1, 0]'),\n",
       " Text(0.05442176870748299, 0.23333333333333334, 'x[0] <= -0.448\\ngini = 0.165\\nsamples = 11\\nvalue = [1, 10]'),\n",
       " Text(0.04081632653061224, 0.16666666666666666, 'x[2] <= -0.753\\ngini = 0.5\\nsamples = 2\\nvalue = [1, 1]'),\n",
       " Text(0.027210884353741496, 0.1, 'gini = 0.0\\nsamples = 1\\nvalue = [1, 0]'),\n",
       " Text(0.05442176870748299, 0.1, 'gini = 0.0\\nsamples = 1\\nvalue = [0, 1]'),\n",
       " Text(0.06802721088435375, 0.16666666666666666, 'gini = 0.0\\nsamples = 9\\nvalue = [0, 9]'),\n",
       " Text(0.08163265306122448, 0.36666666666666664, 'x[1] <= 0.178\\ngini = 0.444\\nsamples = 3\\nvalue = [2, 1]'),\n",
       " Text(0.06802721088435375, 0.3, 'gini = 0.0\\nsamples = 2\\nvalue = [2, 0]'),\n",
       " Text(0.09523809523809523, 0.3, 'gini = 0.0\\nsamples = 1\\nvalue = [0, 1]'),\n",
       " Text(0.20748299319727892, 0.43333333333333335, 'x[0] <= -0.235\\ngini = 0.046\\nsamples = 171\\nvalue = [4, 167]'),\n",
       " Text(0.17006802721088435, 0.36666666666666664, 'x[3] <= 1.22\\ngini = 0.035\\nsamples = 167\\nvalue = [3, 164]'),\n",
       " Text(0.1360544217687075, 0.3, 'x[2] <= -0.471\\ngini = 0.025\\nsamples = 158\\nvalue = [2, 156]'),\n",
       " Text(0.10884353741496598, 0.23333333333333334, 'x[2] <= -0.483\\ngini = 0.153\\nsamples = 12\\nvalue = [1, 11]'),\n",
       " Text(0.09523809523809523, 0.16666666666666666, 'gini = 0.0\\nsamples = 11\\nvalue = [0, 11]'),\n",
       " Text(0.12244897959183673, 0.16666666666666666, 'gini = 0.0\\nsamples = 1\\nvalue = [1, 0]'),\n",
       " Text(0.16326530612244897, 0.23333333333333334, 'x[0] <= -0.653\\ngini = 0.014\\nsamples = 146\\nvalue = [1, 145]'),\n",
       " Text(0.14965986394557823, 0.16666666666666666, 'gini = 0.0\\nsamples = 98\\nvalue = [0, 98]'),\n",
       " Text(0.17687074829931973, 0.16666666666666666, 'x[0] <= -0.648\\ngini = 0.041\\nsamples = 48\\nvalue = [1, 47]'),\n",
       " Text(0.16326530612244897, 0.1, 'gini = 0.0\\nsamples = 1\\nvalue = [1, 0]'),\n",
       " Text(0.19047619047619047, 0.1, 'gini = 0.0\\nsamples = 47\\nvalue = [0, 47]'),\n",
       " Text(0.20408163265306123, 0.3, 'x[3] <= 1.23\\ngini = 0.198\\nsamples = 9\\nvalue = [1, 8]'),\n",
       " Text(0.19047619047619047, 0.23333333333333334, 'gini = 0.0\\nsamples = 1\\nvalue = [1, 0]'),\n",
       " Text(0.21768707482993196, 0.23333333333333334, 'gini = 0.0\\nsamples = 8\\nvalue = [0, 8]'),\n",
       " Text(0.24489795918367346, 0.36666666666666664, 'x[0] <= -0.23\\ngini = 0.375\\nsamples = 4\\nvalue = [1, 3]'),\n",
       " Text(0.23129251700680273, 0.3, 'gini = 0.0\\nsamples = 1\\nvalue = [1, 0]'),\n",
       " Text(0.2585034013605442, 0.3, 'gini = 0.0\\nsamples = 3\\nvalue = [0, 3]'),\n",
       " Text(0.1445578231292517, 0.5666666666666667, 'gini = 0.0\\nsamples = 2\\nvalue = [2, 0]'),\n",
       " Text(0.3469387755102041, 0.7, 'x[1] <= -0.832\\ngini = 0.301\\nsamples = 119\\nvalue = [22, 97]'),\n",
       " Text(0.3333333333333333, 0.6333333333333333, 'x[2] <= 1.124\\ngini = 0.141\\nsamples = 105\\nvalue = [8, 97]'),\n",
       " Text(0.3197278911564626, 0.5666666666666667, 'gini = 0.0\\nsamples = 1\\nvalue = [1, 0]'),\n",
       " Text(0.3469387755102041, 0.5666666666666667, 'x[0] <= -0.396\\ngini = 0.126\\nsamples = 104\\nvalue = [7, 97]'),\n",
       " Text(0.3129251700680272, 0.5, 'x[2] <= 2.143\\ngini = 0.111\\nsamples = 102\\nvalue = [6, 96]'),\n",
       " Text(0.2857142857142857, 0.43333333333333335, 'x[3] <= 1.006\\ngini = 0.032\\nsamples = 62\\nvalue = [1, 61]'),\n",
       " Text(0.272108843537415, 0.36666666666666664, 'gini = 0.0\\nsamples = 51\\nvalue = [0, 51]'),\n",
       " Text(0.29931972789115646, 0.36666666666666664, 'x[3] <= 1.017\\ngini = 0.165\\nsamples = 11\\nvalue = [1, 10]'),\n",
       " Text(0.2857142857142857, 0.3, 'gini = 0.0\\nsamples = 1\\nvalue = [1, 0]'),\n",
       " Text(0.3129251700680272, 0.3, 'gini = 0.0\\nsamples = 10\\nvalue = [0, 10]'),\n",
       " Text(0.3401360544217687, 0.43333333333333335, 'x[2] <= 2.168\\ngini = 0.219\\nsamples = 40\\nvalue = [5, 35]'),\n",
       " Text(0.32653061224489793, 0.36666666666666664, 'gini = 0.0\\nsamples = 1\\nvalue = [1, 0]'),\n",
       " Text(0.35374149659863946, 0.36666666666666664, 'x[0] <= -1.415\\ngini = 0.184\\nsamples = 39\\nvalue = [4, 35]'),\n",
       " Text(0.3401360544217687, 0.3, 'x[0] <= -1.418\\ngini = 0.26\\nsamples = 26\\nvalue = [4, 22]'),\n",
       " Text(0.32653061224489793, 0.23333333333333334, 'x[3] <= -0.007\\ngini = 0.211\\nsamples = 25\\nvalue = [3, 22]'),\n",
       " Text(0.29931972789115646, 0.16666666666666666, 'x[1] <= -2.568\\ngini = 0.105\\nsamples = 18\\nvalue = [1, 17]'),\n",
       " Text(0.2857142857142857, 0.1, 'x[3] <= -0.593\\ngini = 0.375\\nsamples = 4\\nvalue = [1, 3]'),\n",
       " Text(0.272108843537415, 0.03333333333333333, 'gini = 0.0\\nsamples = 3\\nvalue = [0, 3]'),\n",
       " Text(0.29931972789115646, 0.03333333333333333, 'gini = 0.0\\nsamples = 1\\nvalue = [1, 0]'),\n",
       " Text(0.3129251700680272, 0.1, 'gini = 0.0\\nsamples = 14\\nvalue = [0, 14]'),\n",
       " Text(0.35374149659863946, 0.16666666666666666, 'x[2] <= 2.328\\ngini = 0.408\\nsamples = 7\\nvalue = [2, 5]'),\n",
       " Text(0.3401360544217687, 0.1, 'gini = 0.0\\nsamples = 4\\nvalue = [0, 4]'),\n",
       " Text(0.3673469387755102, 0.1, 'x[1] <= -2.157\\ngini = 0.444\\nsamples = 3\\nvalue = [2, 1]'),\n",
       " Text(0.35374149659863946, 0.03333333333333333, 'gini = 0.0\\nsamples = 1\\nvalue = [0, 1]'),\n",
       " Text(0.38095238095238093, 0.03333333333333333, 'gini = 0.0\\nsamples = 2\\nvalue = [2, 0]'),\n",
       " Text(0.35374149659863946, 0.23333333333333334, 'gini = 0.0\\nsamples = 1\\nvalue = [1, 0]'),\n",
       " Text(0.3673469387755102, 0.3, 'gini = 0.0\\nsamples = 13\\nvalue = [0, 13]'),\n",
       " Text(0.38095238095238093, 0.5, 'x[0] <= -0.357\\ngini = 0.5\\nsamples = 2\\nvalue = [1, 1]'),\n",
       " Text(0.3673469387755102, 0.43333333333333335, 'gini = 0.0\\nsamples = 1\\nvalue = [1, 0]'),\n",
       " Text(0.3945578231292517, 0.43333333333333335, 'gini = 0.0\\nsamples = 1\\nvalue = [0, 1]'),\n",
       " Text(0.36054421768707484, 0.6333333333333333, 'gini = 0.0\\nsamples = 14\\nvalue = [14, 0]'),\n",
       " Text(0.3877551020408163, 0.7666666666666667, 'x[0] <= -1.828\\ngini = 0.476\\nsamples = 23\\nvalue = [9, 14]'),\n",
       " Text(0.3741496598639456, 0.7, 'gini = 0.0\\nsamples = 14\\nvalue = [0, 14]'),\n",
       " Text(0.4013605442176871, 0.7, 'gini = 0.0\\nsamples = 9\\nvalue = [9, 0]'),\n",
       " Text(0.42857142857142855, 0.8333333333333334, 'x[0] <= -1.777\\ngini = 0.122\\nsamples = 46\\nvalue = [43, 3]'),\n",
       " Text(0.41496598639455784, 0.7666666666666667, 'gini = 0.0\\nsamples = 2\\nvalue = [0, 2]'),\n",
       " Text(0.4421768707482993, 0.7666666666666667, 'x[3] <= -0.888\\ngini = 0.044\\nsamples = 44\\nvalue = [43, 1]'),\n",
       " Text(0.42857142857142855, 0.7, 'gini = 0.0\\nsamples = 42\\nvalue = [42, 0]'),\n",
       " Text(0.4557823129251701, 0.7, 'x[3] <= -0.843\\ngini = 0.5\\nsamples = 2\\nvalue = [1, 1]'),\n",
       " Text(0.4421768707482993, 0.6333333333333333, 'gini = 0.0\\nsamples = 1\\nvalue = [0, 1]'),\n",
       " Text(0.46938775510204084, 0.6333333333333333, 'gini = 0.0\\nsamples = 1\\nvalue = [1, 0]'),\n",
       " Text(0.639030612244898, 0.9, 'x[2] <= -1.377\\ngini = 0.274\\nsamples = 629\\nvalue = [526, 103]'),\n",
       " Text(0.5612244897959183, 0.8333333333333334, 'x[1] <= 0.901\\ngini = 0.326\\nsamples = 39\\nvalue = [8, 31]'),\n",
       " Text(0.5476190476190477, 0.7666666666666667, 'gini = 0.0\\nsamples = 31\\nvalue = [0, 31]'),\n",
       " Text(0.5748299319727891, 0.7666666666666667, 'gini = 0.0\\nsamples = 8\\nvalue = [8, 0]'),\n",
       " Text(0.7168367346938775, 0.8333333333333334, 'x[0] <= 0.425\\ngini = 0.214\\nsamples = 590\\nvalue = [518, 72]'),\n",
       " Text(0.6020408163265306, 0.7666666666666667, 'x[1] <= 0.334\\ngini = 0.411\\nsamples = 204\\nvalue = [145, 59]'),\n",
       " Text(0.5306122448979592, 0.7, 'x[2] <= -0.293\\ngini = 0.5\\nsamples = 110\\nvalue = [54, 56]'),\n",
       " Text(0.4965986394557823, 0.6333333333333333, 'x[0] <= -0.154\\ngini = 0.039\\nsamples = 50\\nvalue = [1, 49]'),\n",
       " Text(0.48299319727891155, 0.5666666666666667, 'x[0] <= -0.166\\ngini = 0.32\\nsamples = 5\\nvalue = [1, 4]'),\n",
       " Text(0.46938775510204084, 0.5, 'gini = 0.0\\nsamples = 4\\nvalue = [0, 4]'),\n",
       " Text(0.4965986394557823, 0.5, 'gini = 0.0\\nsamples = 1\\nvalue = [1, 0]'),\n",
       " Text(0.5102040816326531, 0.5666666666666667, 'gini = 0.0\\nsamples = 45\\nvalue = [0, 45]'),\n",
       " Text(0.564625850340136, 0.6333333333333333, 'x[3] <= 1.041\\ngini = 0.206\\nsamples = 60\\nvalue = [53, 7]'),\n",
       " Text(0.5510204081632653, 0.5666666666666667, 'x[0] <= -0.017\\ngini = 0.158\\nsamples = 58\\nvalue = [53, 5]'),\n",
       " Text(0.5238095238095238, 0.5, 'x[2] <= 1.108\\ngini = 0.375\\nsamples = 16\\nvalue = [12, 4]'),\n",
       " Text(0.5102040816326531, 0.43333333333333335, 'x[1] <= -0.514\\ngini = 0.5\\nsamples = 8\\nvalue = [4, 4]'),\n",
       " Text(0.4965986394557823, 0.36666666666666664, 'x[0] <= -0.026\\ngini = 0.444\\nsamples = 6\\nvalue = [4, 2]'),\n",
       " Text(0.48299319727891155, 0.3, 'x[2] <= 0.36\\ngini = 0.32\\nsamples = 5\\nvalue = [4, 1]'),\n",
       " Text(0.46938775510204084, 0.23333333333333334, 'gini = 0.0\\nsamples = 1\\nvalue = [1, 0]'),\n",
       " Text(0.4965986394557823, 0.23333333333333334, 'gini = 0.375\\nsamples = 4\\nvalue = [3, 1]'),\n",
       " Text(0.5102040816326531, 0.3, 'gini = 0.0\\nsamples = 1\\nvalue = [0, 1]'),\n",
       " Text(0.5238095238095238, 0.36666666666666664, 'gini = 0.0\\nsamples = 2\\nvalue = [0, 2]'),\n",
       " Text(0.5374149659863946, 0.43333333333333335, 'gini = 0.0\\nsamples = 8\\nvalue = [8, 0]'),\n",
       " Text(0.5782312925170068, 0.5, 'x[3] <= -0.4\\ngini = 0.046\\nsamples = 42\\nvalue = [41, 1]'),\n",
       " Text(0.564625850340136, 0.43333333333333335, 'x[2] <= 1.625\\ngini = 0.5\\nsamples = 2\\nvalue = [1, 1]'),\n",
       " Text(0.5510204081632653, 0.36666666666666664, 'gini = 0.0\\nsamples = 1\\nvalue = [1, 0]'),\n",
       " Text(0.5782312925170068, 0.36666666666666664, 'gini = 0.0\\nsamples = 1\\nvalue = [0, 1]'),\n",
       " Text(0.5918367346938775, 0.43333333333333335, 'gini = 0.0\\nsamples = 40\\nvalue = [40, 0]'),\n",
       " Text(0.5782312925170068, 0.5666666666666667, 'gini = 0.0\\nsamples = 2\\nvalue = [0, 2]'),\n",
       " Text(0.673469387755102, 0.7, 'x[2] <= -0.738\\ngini = 0.062\\nsamples = 94\\nvalue = [91, 3]'),\n",
       " Text(0.6598639455782312, 0.6333333333333333, 'x[0] <= 0.395\\ngini = 0.255\\nsamples = 20\\nvalue = [17, 3]'),\n",
       " Text(0.6462585034013606, 0.5666666666666667, 'x[2] <= -0.74\\ngini = 0.188\\nsamples = 19\\nvalue = [17, 2]'),\n",
       " Text(0.6326530612244898, 0.5, 'x[3] <= 0.148\\ngini = 0.105\\nsamples = 18\\nvalue = [17, 1]'),\n",
       " Text(0.6190476190476191, 0.43333333333333335, 'gini = 0.0\\nsamples = 14\\nvalue = [14, 0]'),\n",
       " Text(0.6462585034013606, 0.43333333333333335, 'x[1] <= 1.192\\ngini = 0.375\\nsamples = 4\\nvalue = [3, 1]'),\n",
       " Text(0.6326530612244898, 0.36666666666666664, 'gini = 0.0\\nsamples = 1\\nvalue = [0, 1]'),\n",
       " Text(0.6598639455782312, 0.36666666666666664, 'gini = 0.0\\nsamples = 3\\nvalue = [3, 0]'),\n",
       " Text(0.6598639455782312, 0.5, 'gini = 0.0\\nsamples = 1\\nvalue = [0, 1]'),\n",
       " Text(0.673469387755102, 0.5666666666666667, 'gini = 0.0\\nsamples = 1\\nvalue = [0, 1]'),\n",
       " Text(0.6870748299319728, 0.6333333333333333, 'gini = 0.0\\nsamples = 74\\nvalue = [74, 0]'),\n",
       " Text(0.8316326530612245, 0.7666666666666667, 'x[2] <= -0.957\\ngini = 0.065\\nsamples = 386\\nvalue = [373, 13]'),\n",
       " Text(0.7619047619047619, 0.7, 'x[3] <= 0.279\\ngini = 0.171\\nsamples = 74\\nvalue = [67, 7]'),\n",
       " Text(0.7142857142857143, 0.6333333333333333, 'x[0] <= 0.521\\ngini = 0.083\\nsamples = 69\\nvalue = [66, 3]'),\n",
       " Text(0.7006802721088435, 0.5666666666666667, 'gini = 0.0\\nsamples = 1\\nvalue = [0, 1]'),\n",
       " Text(0.7278911564625851, 0.5666666666666667, 'x[2] <= -1.362\\ngini = 0.057\\nsamples = 68\\nvalue = [66, 2]'),\n",
       " Text(0.7006802721088435, 0.5, 'x[2] <= -1.37\\ngini = 0.444\\nsamples = 3\\nvalue = [2, 1]'),\n",
       " Text(0.6870748299319728, 0.43333333333333335, 'gini = 0.0\\nsamples = 2\\nvalue = [2, 0]'),\n",
       " Text(0.7142857142857143, 0.43333333333333335, 'gini = 0.0\\nsamples = 1\\nvalue = [0, 1]'),\n",
       " Text(0.7551020408163265, 0.5, 'x[1] <= 1.428\\ngini = 0.03\\nsamples = 65\\nvalue = [64, 1]'),\n",
       " Text(0.7414965986394558, 0.43333333333333335, 'gini = 0.0\\nsamples = 43\\nvalue = [43, 0]'),\n",
       " Text(0.7687074829931972, 0.43333333333333335, 'x[1] <= 1.43\\ngini = 0.087\\nsamples = 22\\nvalue = [21, 1]'),\n",
       " Text(0.7551020408163265, 0.36666666666666664, 'gini = 0.0\\nsamples = 1\\nvalue = [0, 1]'),\n",
       " Text(0.782312925170068, 0.36666666666666664, 'gini = 0.0\\nsamples = 21\\nvalue = [21, 0]'),\n",
       " Text(0.8095238095238095, 0.6333333333333333, 'x[3] <= 0.315\\ngini = 0.32\\nsamples = 5\\nvalue = [1, 4]'),\n",
       " Text(0.7959183673469388, 0.5666666666666667, 'x[0] <= 1.41\\ngini = 0.5\\nsamples = 2\\nvalue = [1, 1]'),\n",
       " Text(0.782312925170068, 0.5, 'gini = 0.0\\nsamples = 1\\nvalue = [0, 1]'),\n",
       " Text(0.8095238095238095, 0.5, 'gini = 0.0\\nsamples = 1\\nvalue = [1, 0]'),\n",
       " Text(0.8231292517006803, 0.5666666666666667, 'gini = 0.0\\nsamples = 3\\nvalue = [0, 3]'),\n",
       " Text(0.9013605442176871, 0.7, 'x[3] <= -0.927\\ngini = 0.038\\nsamples = 312\\nvalue = [306, 6]'),\n",
       " Text(0.8639455782312925, 0.6333333333333333, 'x[0] <= 0.589\\ngini = 0.5\\nsamples = 2\\nvalue = [1, 1]'),\n",
       " Text(0.8503401360544217, 0.5666666666666667, 'gini = 0.0\\nsamples = 1\\nvalue = [0, 1]'),\n",
       " Text(0.8775510204081632, 0.5666666666666667, 'gini = 0.0\\nsamples = 1\\nvalue = [1, 0]'),\n",
       " Text(0.9387755102040817, 0.6333333333333333, 'x[2] <= 1.65\\ngini = 0.032\\nsamples = 310\\nvalue = [305, 5]'),\n",
       " Text(0.9047619047619048, 0.5666666666666667, 'x[3] <= 0.827\\ngini = 0.026\\nsamples = 307\\nvalue = [303, 4]'),\n",
       " Text(0.8775510204081632, 0.5, 'x[2] <= -0.518\\ngini = 0.01\\nsamples = 194\\nvalue = [193, 1]'),\n",
       " Text(0.8639455782312925, 0.43333333333333335, 'x[2] <= -0.52\\ngini = 0.037\\nsamples = 53\\nvalue = [52, 1]'),\n",
       " Text(0.8503401360544217, 0.36666666666666664, 'gini = 0.0\\nsamples = 52\\nvalue = [52, 0]'),\n",
       " Text(0.8775510204081632, 0.36666666666666664, 'gini = 0.0\\nsamples = 1\\nvalue = [0, 1]'),\n",
       " Text(0.891156462585034, 0.43333333333333335, 'gini = 0.0\\nsamples = 141\\nvalue = [141, 0]'),\n",
       " Text(0.9319727891156463, 0.5, 'x[3] <= 0.83\\ngini = 0.052\\nsamples = 113\\nvalue = [110, 3]'),\n",
       " Text(0.9183673469387755, 0.43333333333333335, 'gini = 0.0\\nsamples = 1\\nvalue = [0, 1]'),\n",
       " Text(0.9455782312925171, 0.43333333333333335, 'x[3] <= 0.844\\ngini = 0.035\\nsamples = 112\\nvalue = [110, 2]'),\n",
       " Text(0.9183673469387755, 0.36666666666666664, 'x[0] <= 0.811\\ngini = 0.278\\nsamples = 6\\nvalue = [5, 1]'),\n",
       " Text(0.9047619047619048, 0.3, 'gini = 0.0\\nsamples = 1\\nvalue = [0, 1]'),\n",
       " Text(0.9319727891156463, 0.3, 'gini = 0.0\\nsamples = 5\\nvalue = [5, 0]'),\n",
       " Text(0.9727891156462585, 0.36666666666666664, 'x[1] <= -0.784\\ngini = 0.019\\nsamples = 106\\nvalue = [105, 1]'),\n",
       " Text(0.9591836734693877, 0.3, 'x[1] <= -0.795\\ngini = 0.095\\nsamples = 20\\nvalue = [19, 1]'),\n",
       " Text(0.9455782312925171, 0.23333333333333334, 'gini = 0.0\\nsamples = 19\\nvalue = [19, 0]'),\n",
       " Text(0.9727891156462585, 0.23333333333333334, 'gini = 0.0\\nsamples = 1\\nvalue = [0, 1]'),\n",
       " Text(0.9863945578231292, 0.3, 'gini = 0.0\\nsamples = 86\\nvalue = [86, 0]'),\n",
       " Text(0.9727891156462585, 0.5666666666666667, 'x[2] <= 1.662\\ngini = 0.444\\nsamples = 3\\nvalue = [2, 1]'),\n",
       " Text(0.9591836734693877, 0.5, 'gini = 0.0\\nsamples = 1\\nvalue = [0, 1]'),\n",
       " Text(0.9863945578231292, 0.5, 'gini = 0.0\\nsamples = 2\\nvalue = [2, 0]')]"
      ]
     },
     "execution_count": 35,
     "metadata": {},
     "output_type": "execute_result"
    },
    {
     "data": {
      "image/png": "[encoded data removed]",
      "text/plain": [
       "<Figure size 640x480 with 1 Axes>"
      ]
     },
     "metadata": {},
     "output_type": "display_data"
    }
   ],
   "source": [
    "from sklearn import tree\n",
    "tree.plot_tree(classifier)"
   ]
  },
  {
   "cell_type": "code",
   "execution_count": null,
   "id": "0e20ba4a-9769-42e5-bd6e-3de5ab1c748f",
   "metadata": {},
   "outputs": [],
   "source": []
  }
 ],
 "metadata": {
  "kernelspec": {
   "display_name": "Python 3 (ipykernel)",
   "language": "python",
   "name": "python3"
  },
  "language_info": {
   "codemirror_mode": {
    "name": "ipython",
    "version": 3
   },
   "file_extension": ".py",
   "mimetype": "text/x-python",
   "name": "python",
   "nbconvert_exporter": "python",
   "pygments_lexer": "ipython3",
   "version": "3.11.7"
  }
 },
 "nbformat": 4,
 "nbformat_minor": 5
}
